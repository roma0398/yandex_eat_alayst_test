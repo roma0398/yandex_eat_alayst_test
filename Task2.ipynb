{
 "cells": [
  {
   "cell_type": "code",
   "execution_count": null,
   "metadata": {},
   "outputs": [],
   "source": [
    "import pandas as pd"
   ]
  },
  {
   "cell_type": "code",
   "execution_count": null,
   "metadata": {},
   "outputs": [],
   "source": [
    "users = pd.read_csv('data/user_coordinates.csv')\n",
    "\n",
    "places = pd.read_csv('data/place_zone_coordinates.csv')\n",
    "\n",
    "place_id = set(places['place_id'].values)"
   ]
  },
  {
   "cell_type": "code",
   "execution_count": null,
   "metadata": {},
   "outputs": [],
   "source": [
    "def point(x, y):\n",
    "    if min(x1_1, x1_2) <= x <= max(x1_1, x1_2) and abs((x - x1_1) *\n",
    "        (y1_2 - y1_1) - (y - y1_1) * (x1_2 - x1_1)) < 10 ** -4:\n",
    "        return 1\n",
    "    else:\n",
    "        return 0"
   ]
  },
  {
   "cell_type": "code",
   "execution_count": null,
   "metadata": {},
   "outputs": [],
   "source": [
    "def cross(x1_1, x1_2, y1_1, y1_2, x2_1, x2_2, y2_1, y2_2):\n",
    "    A1 = y1_1 - y1_2\n",
    "    B1 = x1_2 - x1_1\n",
    "    C1 = x1_1*y1_2 - x1_2*y1_1\n",
    "    A2 = y2_1 - y2_2\n",
    "    B2 = x2_2 - x2_1\n",
    "    C2 = x2_1*y2_2 - x2_2*y2_1\n",
    "\n",
    "    if B1*A2 - B2*A1 and A1:\n",
    "        y = (C2*A1 - C1*A2) / (B1*A2 - B2*A1)\n",
    "        x = (-C1 - B1*y) / A1\n",
    "        return point(x, y)\n",
    "    elif B1*A2 - B2*A1 and A2:\n",
    "        y = (C2*A1 - C1*A2) / (B1*A2 - B2*A1)\n",
    "        x = (-C2 - B2*y) / A2\n",
    "        return point(x, y)\n",
    "    return 0"
   ]
  },
  {
   "cell_type": "code",
   "execution_count": null,
   "metadata": {},
   "outputs": [],
   "source": [
    "user_place = []\n",
    "x1_2, y1_2 = 80.0, 170.0\n",
    "for i in users['user_id']:\n",
    "    x1_1, y1_1 = users.loc[users['user_id']==i]['loc_lat'].values[0], users.loc[users['user_id']==i]['loc_lon'].values[0]\n",
    "    count = 0\n",
    "    for j in place_id:\n",
    "        count_cross = 0\n",
    "        for z in range(4):\n",
    "            x2_1, y2_1 = places.loc[places['place_id'] == j].loc[places['point_number'] == (z % 4)][\n",
    "                'loc_lat'].values[0], places.loc[places['place_id'] == j].loc[places['point_number'] == (z%4)]['loc_lon'].values[0]\n",
    "            x2_2, y2_2 = places.loc[places['place_id'] == j].loc[places['point_number'] == (z+1)%4][\n",
    "                'loc_lat'].values[0], places.loc[places['place_id'] == j].loc[places['point_number'] == (z+1)%4]['loc_lon'].values[0]\n",
    "            count_cross += cross(x1_1, x1_2, y1_1, y1_2, x2_1, x2_2, y2_1, y2_2)\n",
    "        if count_cross % 2 == 1:\n",
    "            count += 1\n",
    "    user_place.append(count)"
   ]
  },
  {
   "cell_type": "code",
   "execution_count": null,
   "metadata": {},
   "outputs": [],
   "source": [
    "result = pd.DataFrame(data=list(zip(users['user_id'].values, user_place)), columns=['id', 'number_of_places_available'])"
   ]
  },
  {
   "cell_type": "code",
   "execution_count": null,
   "metadata": {},
   "outputs": [],
   "source": [
    "result.to_csv('result.csv', index=False)"
   ]
  },
  {
   "cell_type": "code",
   "execution_count": null,
   "metadata": {},
   "outputs": [],
   "source": []
  }
 ],
 "metadata": {
  "kernelspec": {
   "display_name": "Python 3",
   "language": "python",
   "name": "python3"
  },
  "language_info": {
   "codemirror_mode": {
    "name": "ipython",
    "version": 3
   },
   "file_extension": ".py",
   "mimetype": "text/x-python",
   "name": "python",
   "nbconvert_exporter": "python",
   "pygments_lexer": "ipython3",
   "version": "3.7.6"
  }
 },
 "nbformat": 4,
 "nbformat_minor": 4
}
